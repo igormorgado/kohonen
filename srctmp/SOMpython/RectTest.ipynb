{
 "cells": [
  {
   "cell_type": "code",
   "execution_count": 1,
   "metadata": {},
   "outputs": [],
   "source": [
    "from neurons import *\n",
    "from som import *\n",
    "from learningrate import *\n",
    "from neighborhood import *\n",
    "from visualization import *\n",
    "import pandas as pd\n",
    "import matplotlib.pyplot as plt\n",
    "np.random.seed(0)"
   ]
  },
  {
   "cell_type": "code",
   "execution_count": 2,
   "metadata": {},
   "outputs": [
    {
     "data": {
      "text/plain": [
       "array([[ 0.28889162,  0.09941482,  0.7986076 , -0.25903418,  0.94518681],\n",
       "       [ 0.31377155,  0.08660473,  1.54124134, -0.17241984,  0.41034595],\n",
       "       [ 0.33803716,  0.07379465,  1.64486465, -0.10779221, -0.12449491],\n",
       "       ...,\n",
       "       [ 3.92689033,  0.68440883,  0.47046711, -0.31433411, -0.01752673],\n",
       "       [ 3.78344678,  0.7228391 ,  0.52227876, -0.34764731, -0.12449491],\n",
       "       [ 3.3647882 ,  0.76553939,  0.29776159, -0.55418921, -0.12449491]])"
      ]
     },
     "execution_count": 2,
     "metadata": {},
     "output_type": "execute_result"
    }
   ],
   "source": [
    "df = pd.read_csv('../../inputs/well/sint02/1/training_data.csv')\n",
    "logs = ['GR', 'ILD_log10', 'DeltaPHI', 'PHIND', 'PE']\n",
    "data = df[logs][0:1000].values\n",
    "normalized_data = (data - np.mean(data, axis=0))/np.std(data, axis=0)\n",
    "normalized_data"
   ]
  },
  {
   "cell_type": "code",
   "execution_count": 3,
   "metadata": {},
   "outputs": [],
   "source": [
    "nx,ny = 30,30\n",
    "startLearningRate = 2.0\n",
    "endLearningRate = 0.5\n",
    "maxradius = 0.5\n",
    "minradius = 0.1"
   ]
  },
  {
   "cell_type": "code",
   "execution_count": 4,
   "metadata": {},
   "outputs": [],
   "source": [
    "neurons = neurons_factory_builder(nx,ny)\n",
    "learrning = ExponentialLearningRate(startLearningRate,endLearningRate,10000)"
   ]
  },
  {
   "cell_type": "code",
   "execution_count": 5,
   "metadata": {},
   "outputs": [],
   "source": [
    "neighborhood = GaussianNeighborhoodFunction(0.5,0.1,10000)\n",
    "som = SelfOrganizingMaps( neurons, learrning, neighborhood, normalized_data )"
   ]
  },
  {
   "cell_type": "code",
   "execution_count": 6,
   "metadata": {},
   "outputs": [
    {
     "name": "stdout",
     "output_type": "stream",
     "text": [
      "Iteration 0 - sqerror : 1.3155793 - step: 1000\n",
      "Iteration 1 - sqerror : 0.7574384 - step: 2000\n",
      "Iteration 2 - sqerror : 1.2024534 - step: 3000\n",
      "Iteration 3 - sqerror : 1.7601046 - step: 4000\n",
      "Iteration 4 - sqerror : 1.3650113 - step: 5000\n",
      "Iteration 5 - sqerror : 1.0136378 - step: 6000\n",
      "Iteration 6 - sqerror : 0.9199608 - step: 7000\n",
      "Iteration 7 - sqerror : 1.4417560 - step: 8000\n",
      "Iteration 8 - sqerror : 0.8366282 - step: 9000\n",
      "Iteration 9 - sqerror : 0.2358500 - step: 10000\n",
      "Iteration 10 - sqerror : 0.2652528 - step: 11000\n",
      "Iteration 11 - sqerror : 0.0862462 - step: 12000\n",
      "Iteration 12 - sqerror : 0.0277977 - step: 13000\n",
      "Iteration 13 - sqerror : 0.6181621 - step: 14000\n",
      "Iteration 14 - sqerror : 0.2368955 - step: 15000\n",
      "Iteration 15 - sqerror : 0.1022659 - step: 16000\n",
      "Iteration 16 - sqerror : 0.2496839 - step: 17000\n",
      "Iteration 17 - sqerror : 0.1403589 - step: 18000\n",
      "Iteration 18 - sqerror : 0.0542482 - step: 19000\n",
      "Iteration 19 - sqerror : 0.0604588 - step: 20000\n",
      "Iteration 20 - sqerror : 0.0000006 - step: 20527\n"
     ]
    }
   ],
   "source": [
    "som.fit( normalized_data )"
   ]
  },
  {
   "cell_type": "code",
   "execution_count": 11,
   "metadata": {},
   "outputs": [
    {
     "data": {
      "image/png": "[encoded data removed]",
      "text/plain": [
       "<Figure size 288x288 with 2 Axes>"
      ]
     },
     "metadata": {
      "needs_background": "light"
     },
     "output_type": "display_data"
    },
    {
     "data": {
      "image/png": "[encoded data removed]",
      "text/plain": [
       "<Figure size 288x288 with 2 Axes>"
      ]
     },
     "metadata": {
      "needs_background": "light"
     },
     "output_type": "display_data"
    }
   ],
   "source": [
    "plt.matshow(som.neurons.positions[:,0].reshape(ny,nx))\n",
    "plt.colorbar()\n",
    "plt.matshow(som.neurons.positions[:,1].reshape(ny,nx))\n",
    "plt.colorbar();"
   ]
  },
  {
   "cell_type": "code",
   "execution_count": null,
   "metadata": {},
   "outputs": [],
   "source": [
    "neurons = neurons_factory_builder(nx,ny, grid = 'hexagonal', init='random')\n",
    "learrning = ExponentialLearningRate(startLearningRate,endLearningRate,10000)"
   ]
  },
  {
   "cell_type": "code",
   "execution_count": null,
   "metadata": {},
   "outputs": [],
   "source": [
    "learrning.max_steps"
   ]
  },
  {
   "cell_type": "code",
   "execution_count": null,
   "metadata": {},
   "outputs": [],
   "source": [
    "learrning.calc_parameters()"
   ]
  },
  {
   "cell_type": "code",
   "execution_count": null,
   "metadata": {},
   "outputs": [],
   "source": [
    "learrning.calc_learning_rate(10)"
   ]
  },
  {
   "cell_type": "code",
   "execution_count": null,
   "metadata": {},
   "outputs": [],
   "source": [
    "learrning(1000000000000)"
   ]
  },
  {
   "cell_type": "code",
   "execution_count": null,
   "metadata": {},
   "outputs": [],
   "source": [
    "neighborhood = GaussianNeighborhoodFunction(0.5,0.1,10000)\n",
    "som = SelfOrganizingMaps( neurons, learrning, neighborhood, normalized_data )"
   ]
  },
  {
   "cell_type": "code",
   "execution_count": null,
   "metadata": {},
   "outputs": [],
   "source": [
    "learrning.max_steps"
   ]
  },
  {
   "cell_type": "code",
   "execution_count": null,
   "metadata": {},
   "outputs": [],
   "source": [
    "learrning.calc_learning_rate(10000000)"
   ]
  },
  {
   "cell_type": "code",
   "execution_count": null,
   "metadata": {},
   "outputs": [],
   "source": [
    "learrning.max_steps"
   ]
  },
  {
   "cell_type": "code",
   "execution_count": null,
   "metadata": {},
   "outputs": [],
   "source": [
    "plt.figure(figsize=(20,10))\n",
    "\n",
    "ax1 = plt.subplot(151)\n",
    "plt.title(logs[0])\n",
    "display_hexgrid(ax1, nx, ny, som.neurons.positions[:,0], \"hsv\")\n",
    "\n",
    "\n",
    "ax2 = plt.subplot(152)\n",
    "plt.title(logs[1])\n",
    "display_hexgrid(ax2, nx, ny, som.neurons.positions[:,1], \"hsv\")\n",
    "\n",
    "\n",
    "ax3 = plt.subplot(153)\n",
    "plt.title(logs[2])\n",
    "display_hexgrid(ax3, nx, ny, som.neurons.positions[:,2], \"hsv\")\n",
    "\n",
    "\n",
    "ax4 = plt.subplot(154)\n",
    "plt.title(logs[3])\n",
    "display_hexgrid(ax4, nx, ny, som.neurons.positions[:,3], \"hsv\")\n",
    "\n",
    "\n",
    "ax5 = plt.subplot(155)\n",
    "plt.title(logs[4])\n",
    "display_hexgrid(ax5, nx, ny, som.neurons.positions[:,4], \"hsv\")\n",
    "\n",
    "plt.show()"
   ]
  },
  {
   "cell_type": "code",
   "execution_count": null,
   "metadata": {},
   "outputs": [],
   "source": [
    "plt.figure( figsize=(20,10) )\n",
    "\n",
    "plt.subplot( 141 )\n",
    "plt.title( str( logs[ 0 ] ) + \" VS \" + str( logs[ 1 ] ) )\n",
    "plt.scatter( normalized_data[:,0], normalized_data[:,1] , color = 'blue', label = 'Data')\n",
    "plt.scatter( som.neurons.positions[:,0], som.neurons.positions[:,1], color = 'green', label = 'Neurons')\n",
    "plt.legend()\n",
    "\n",
    "plt.subplot( 142 )\n",
    "plt.title( str( logs[ 1 ] ) + \" VS \" + str( logs[ 2 ] ) )\n",
    "plt.scatter( normalized_data[:,1], normalized_data[:,2] , color = 'blue', label = 'Data')\n",
    "plt.scatter( som.neurons.positions[:,1], som.neurons.positions[:,2], color = 'green', label = 'Neurons')\n",
    "plt.legend( )\n",
    "\n",
    "plt.subplot( 143 )\n",
    "plt.title( str( logs[ 2 ] ) + \" VS \" + str( logs[ 3 ] ) )\n",
    "plt.scatter( normalized_data[:,2], normalized_data[:,3] , color = 'blue', label = 'Data')\n",
    "plt.scatter( som.neurons.positions[:,2], som.neurons.positions[:,3], color = 'green', label = 'Neurons')\n",
    "plt.legend( )\n",
    "\n",
    "plt.subplot( 144 )\n",
    "plt.title( str( logs[ 3 ] ) + \" VS \" + str( logs[ 4 ] ) )\n",
    "plt.scatter( normalized_data[:,3], normalized_data[:,4] , color = 'blue', label = 'Data')\n",
    "plt.scatter( som.neurons.positions[:,3], som.neurons.positions[:,4], color = 'green', label = 'Neurons')\n",
    "plt.legend( )\n",
    "\n",
    "plt.show( )"
   ]
  },
  {
   "cell_type": "code",
   "execution_count": null,
   "metadata": {},
   "outputs": [],
   "source": [
    "ax = plt.subplot(111)\n",
    "display_hexgrid(ax, nx,ny, som.neurons.lattent_space[:,0] + som.neurons.lattent_space[:,1],'hsv')"
   ]
  },
  {
   "cell_type": "code",
   "execution_count": null,
   "metadata": {},
   "outputs": [],
   "source": [
    "som.fit( normalized_data )"
   ]
  },
  {
   "cell_type": "code",
   "execution_count": null,
   "metadata": {},
   "outputs": [],
   "source": [
    "plt.figure(figsize=(20,10))\n",
    "\n",
    "ax1 = plt.subplot(151)\n",
    "plt.title(logs[0])\n",
    "display_hexgrid(ax1, nx, ny, som.neurons.positions[:,0], \"hsv\")\n",
    "\n",
    "\n",
    "ax2 = plt.subplot(152)\n",
    "plt.title(logs[1])\n",
    "display_hexgrid(ax2, nx, ny, som.neurons.positions[:,1], \"hsv\")\n",
    "\n",
    "\n",
    "ax3 = plt.subplot(153)\n",
    "plt.title(logs[2])\n",
    "display_hexgrid(ax3, nx, ny, som.neurons.positions[:,2], \"hsv\")\n",
    "\n",
    "\n",
    "ax4 = plt.subplot(154)\n",
    "plt.title(logs[3])\n",
    "display_hexgrid(ax4, nx, ny, som.neurons.positions[:,3], \"hsv\")\n",
    "\n",
    "\n",
    "ax5 = plt.subplot(155)\n",
    "plt.title(logs[4])\n",
    "display_hexgrid(ax5, nx, ny, som.neurons.positions[:,4], \"hsv\")\n",
    "\n",
    "plt.show()"
   ]
  },
  {
   "cell_type": "code",
   "execution_count": null,
   "metadata": {},
   "outputs": [],
   "source": [
    "plt.figure( figsize=(20,10) )\n",
    "\n",
    "plt.subplot( 141 )\n",
    "plt.title( str( logs[ 0 ] ) + \" VS \" + str( logs[ 1 ] ) )\n",
    "plt.scatter( normalized_data[:,0], normalized_data[:,1] , color = 'blue', label = 'Data')\n",
    "plt.scatter( som.neurons.positions[:,0], som.neurons.positions[:,1], color = 'green', label = 'Neurons')\n",
    "plt.legend()\n",
    "\n",
    "plt.subplot( 142 )\n",
    "plt.title( str( logs[ 1 ] ) + \" VS \" + str( logs[ 2 ] ) )\n",
    "plt.scatter( normalized_data[:,1], normalized_data[:,2] , color = 'blue', label = 'Data')\n",
    "plt.scatter( som.neurons.positions[:,1], som.neurons.positions[:,2], color = 'green', label = 'Neurons')\n",
    "plt.legend( )\n",
    "\n",
    "plt.subplot( 143 )\n",
    "plt.title( str( logs[ 2 ] ) + \" VS \" + str( logs[ 3 ] ) )\n",
    "plt.scatter( normalized_data[:,2], normalized_data[:,3] , color = 'blue', label = 'Data')\n",
    "plt.scatter( som.neurons.positions[:,2], som.neurons.positions[:,3], color = 'green', label = 'Neurons')\n",
    "plt.legend( )\n",
    "\n",
    "plt.subplot( 144 )\n",
    "plt.title( str( logs[ 3 ] ) + \" VS \" + str( logs[ 4 ] ) )\n",
    "plt.scatter( normalized_data[:,3], normalized_data[:,4] , color = 'blue', label = 'Data')\n",
    "plt.scatter( som.neurons.positions[:,3], som.neurons.positions[:,4], color = 'green', label = 'Neurons')\n",
    "plt.legend( )\n",
    "\n",
    "plt.show( )"
   ]
  },
  {
   "cell_type": "code",
   "execution_count": null,
   "metadata": {},
   "outputs": [],
   "source": [
    "plt.figure(figsize=(10,10))\n",
    "\n",
    "plt.title('UX MATRIX')\n",
    "ax = plt.subplot(111)\n",
    "display_hexgrid(ax, nx, ny, som.neurons.positions[:,0]  + som.neurons.positions[:,1] + som.neurons.positions[:,2]\\\n",
    "                 + som.neurons.positions[:,3] + som.neurons.positions[:,4], \"hsv\")\n",
    "\n",
    "\n",
    "plt.show()"
   ]
  },
  {
   "cell_type": "code",
   "execution_count": null,
   "metadata": {},
   "outputs": [],
   "source": [
    "ax = plt.subplot(111)\n",
    "display_hexgrid(ax, nx,ny, som.neurons.lattent_space[:,0] + som.neurons.lattent_space[:,1],'hsv')"
   ]
  },
  {
   "cell_type": "markdown",
   "metadata": {},
   "source": [
    "<h1> OUTRO TESTE: </h1>"
   ]
  },
  {
   "cell_type": "code",
   "execution_count": null,
   "metadata": {},
   "outputs": [],
   "source": [
    "df = pd.read_csv('data/training_data.csv')\n",
    "logs = ['GR', 'ILD_log10', 'DeltaPHI', 'PHIND', 'PE']\n",
    "data = df[logs].values\n",
    "normalized_data = (data - np.mean(data, axis=0))/np.std(data, axis=0)\n",
    "tdata1 = np.r_[ (-normalized_data[:,3] - 10), normalized_data[:,0] ]\n",
    "tdata2 = np.r_[ -normalized_data[:,4] , normalized_data[:,1] ]\n",
    "testdata = np.c_[tdata1, tdata2]"
   ]
  },
  {
   "cell_type": "code",
   "execution_count": null,
   "metadata": {},
   "outputs": [],
   "source": [
    "nx,ny = 9,9\n",
    "startLearningRate = 4.0\n",
    "endLearningRate = 1.0\n",
    "maxradius = 0.5\n",
    "minradius = 0.1"
   ]
  },
  {
   "cell_type": "code",
   "execution_count": null,
   "metadata": {},
   "outputs": [],
   "source": [
    "neurons = neurons_factory_builder(nx,ny, init='random')\n",
    "learrning = LinearLearningRate(startLearningRate,endLearningRate,1000000)\n",
    "neighborhood = GaussianNeighborhoodFunction(0.5,0.1,1000000)\n",
    "som = SelfOrganizingMaps( neurons, learrning, neighborhood, testdata )\n"
   ]
  },
  {
   "cell_type": "code",
   "execution_count": null,
   "metadata": {},
   "outputs": [],
   "source": [
    "plt.figure(figsize=(20,10))\n",
    "\n",
    "ax1 = plt.subplot(121)\n",
    "plt.title(logs[0])\n",
    "display_rectgrid(ax1, nx, ny, som.neurons.positions[:,0], \"hsv\")\n",
    "\n",
    "\n",
    "ax2 = plt.subplot(122)\n",
    "plt.title(logs[1])\n",
    "display_rectgrid(ax2, nx, ny, som.neurons.positions[:,1], \"hsv\")\n",
    "\n",
    "\n",
    "plt.show()"
   ]
  },
  {
   "cell_type": "code",
   "execution_count": null,
   "metadata": {},
   "outputs": [],
   "source": [
    "plt.figure( figsize=(12,10) )\n",
    "\n",
    "plt.title( str( logs[ 0 ] ) + \" VS \" + str( logs[ 1 ] ) )\n",
    "plt.scatter( testdata[:,0], testdata[:,1] , color = 'blue', label = 'Data')\n",
    "plt.scatter( som.neurons.positions[:,0], som.neurons.positions[:,1], color = 'green', label = 'Neurons')\n",
    "plt.legend()\n",
    "\n",
    "\n",
    "plt.show( )"
   ]
  },
  {
   "cell_type": "code",
   "execution_count": null,
   "metadata": {},
   "outputs": [],
   "source": [
    "som.fit( testdata )"
   ]
  },
  {
   "cell_type": "code",
   "execution_count": null,
   "metadata": {},
   "outputs": [],
   "source": [
    "plt.figure(figsize=(20,10))\n",
    "\n",
    "ax1 = plt.subplot(121)\n",
    "plt.title(logs[0])\n",
    "display_rectgrid(ax1, nx, ny, som.neurons.positions[:,0], \"hsv\")\n",
    "\n",
    "\n",
    "ax2 = plt.subplot(122)\n",
    "plt.title(logs[1])\n",
    "display_rectgrid(ax2, nx, ny, som.neurons.positions[:,1], \"hsv\")\n",
    "\n",
    "\n",
    "plt.show()"
   ]
  },
  {
   "cell_type": "code",
   "execution_count": null,
   "metadata": {},
   "outputs": [],
   "source": [
    "plt.figure( figsize=(10,10) )\n",
    "\n",
    "plt.title( str( logs[ 0 ] ) + \" VS \" + str( logs[ 1 ] ) )\n",
    "plt.scatter( testdata[:,0], testdata[:,1] , color = 'blue', label = 'Data')\n",
    "plt.scatter( som.neurons.positions[:,0], som.neurons.positions[:,1], color = 'green', label = 'Neurons')\n",
    "plt.legend()\n",
    "\n",
    "\n",
    "plt.show( )"
   ]
  },
  {
   "cell_type": "code",
   "execution_count": null,
   "metadata": {},
   "outputs": [],
   "source": [
    "plt.figure(figsize=(10,10))\n",
    "\n",
    "plt.title(logs[1])\n",
    "ax = plt.subplot(111)\n",
    "display_rectgrid(ax, nx, ny, som.neurons.positions[:,1] + som.neurons.positions[:,0], \"hsv\")\n",
    "\n",
    "\n",
    "plt.show()"
   ]
  },
  {
   "cell_type": "code",
   "execution_count": null,
   "metadata": {},
   "outputs": [],
   "source": []
  }
 ],
 "metadata": {
  "kernelspec": {
   "display_name": "Python 3",
   "language": "python",
   "name": "python3"
  },
  "language_info": {
   "codemirror_mode": {
    "name": "ipython",
    "version": 3
   },
   "file_extension": ".py",
   "mimetype": "text/x-python",
   "name": "python",
   "nbconvert_exporter": "python",
   "pygments_lexer": "ipython3",
   "version": "3.8.6"
  },
  "latex_envs": {
   "LaTeX_envs_menu_present": true,
   "autoclose": false,
   "autocomplete": true,
   "bibliofile": "biblio.bib",
   "cite_by": "apalike",
   "current_citInitial": 1,
   "eqLabelWithNumbers": true,
   "eqNumInitial": 1,
   "hotkeys": {
    "equation": "Ctrl-E",
    "itemize": "Ctrl-I"
   },
   "labels_anchors": false,
   "latex_user_defs": false,
   "report_style_numbering": false,
   "user_envs_cfg": false
  }
 },
 "nbformat": 4,
 "nbformat_minor": 2
}
